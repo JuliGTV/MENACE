{
 "cells": [
  {
   "cell_type": "markdown",
   "metadata": {},
   "source": [
    "# Matchbox Educable Noughts and Crosses Engine\n",
    "\n"
   ]
  },
  {
   "cell_type": "markdown",
   "metadata": {},
   "source": [
    "Each box corresponds to a gamestate, and has a list of moves it can make and corresponding bead counts."
   ]
  },
  {
   "cell_type": "code",
   "execution_count": 3,
   "metadata": {},
   "outputs": [],
   "source": [
    "from dataclasses import dataclass\n",
    "\n",
    "\n",
    "@dataclass\n",
    "class Box:\n",
    "    state: str      # state should be generic but dataclass does not seem to support generic types????????????????\n",
    "    moves: list[str]\n",
    "    beads: list[int]\n",
    "    \n",
    "\n"
   ]
  },
  {
   "cell_type": "markdown",
   "metadata": {},
   "source": [
    "The gamestate in naughts and crosses can be represented as a string of nine characters.\n",
    "for example the string `XX-OX--OO\"` represents the gamestate:\n",
    "\n",
    "|X|X||\n",
    "|---|---|---|\n",
    "|O|X||\n",
    "||O|O|\n",
    "\n",
    "The entire MENACE machine can be thought of as a mapping from states to boxes:"
   ]
  },
  {
   "cell_type": "code",
   "execution_count": null,
   "metadata": {},
   "outputs": [
    {
     "ename": "",
     "evalue": "",
     "output_type": "error",
     "traceback": [
      "\u001b[1;31mRunning cells with 'Python 3.11.6' requires the ipykernel package.\n",
      "\u001b[1;31mRun the following command to install 'ipykernel' into the Python environment. \n",
      "\u001b[1;31mCommand: 'c:/msys64/mingw64/bin/python.exe -m pip install ipykernel -U --user --force-reinstall'"
     ]
    }
   ],
   "source": [
    "type MENACE = dict[str, Box[str]]"
   ]
  },
  {
   "cell_type": "markdown",
   "metadata": {},
   "source": [
    "In order to reduce the statespace we should ignore treat states that are symmetrical or rotationally symmetrical as redundant.\n",
    "To do this we create functions for flipping and rotating the board:"
   ]
  },
  {
   "cell_type": "code",
   "execution_count": null,
   "metadata": {},
   "outputs": [],
   "source": [
    "def flipX(board:str):\n",
    "    \"flips the board over the X axis\"\n",
    "    return board[6:9] + board[3:6] + board[:3]\n",
    "\n",
    "def rotate(board:str):\n",
    "    b = \"\"\n",
    "    for i in range(0,3):\n",
    "        for j in range(2,-1,-1):\n",
    "            b += board[3*j + i]\n",
    "    return b\n",
    "\n",
    "def all_rotations(board: str):\n",
    "    rs = [board]\n",
    "    for _ in range(3):\n",
    "        board = rotate(board)\n",
    "        rs.append(board)\n",
    "    return rs\n",
    "\n",
    "def all_versions(board:str):\n",
    "    return all_rotations(board) + all_rotations(flipX(board))"
   ]
  },
  {
   "cell_type": "markdown",
   "metadata": {},
   "source": [
    "It will also be useful to have a function for checking whether a board is winning for a player:"
   ]
  },
  {
   "cell_type": "code",
   "execution_count": null,
   "metadata": {},
   "outputs": [],
   "source": [
    "def winstate(state: str, player: str):\n",
    "    wins = {\"012\",\"036\",\"058\",\"157\",\"268\",\"256\",\"345\",\"678\"}\n",
    "    for win in wins:\n",
    "        for i in win:\n",
    "            if state[int(i)] != player:\n",
    "                break\n",
    "        else: return True"
   ]
  },
  {
   "cell_type": "code",
   "execution_count": null,
   "metadata": {},
   "outputs": [],
   "source": [
    "from collections import deque\n",
    "\n",
    "\n",
    "def initialise_game(beads = 10) -> MENACE:\n",
    "    d: MENACE = {}\n",
    "    q = deque()\n",
    "    q.append(\"---------\")\n",
    "    while q:\n",
    "        s: str = q.popleft()\n",
    "        if not sum(v in d for v in all_versions(s)):\n",
    "            moves = [s[:i] + \"O\" + s[i+1:] for i in range(9) if s[i] == \"-\"]\n",
    "            d[s] = Box(s, moves, [beads] * len(moves))\n",
    "            for m in moves:\n",
    "                if winstate(m, \"O\"): continue\n",
    "                if not sum(v in d for v in all_versions(m)):\n",
    "                    q.append(m)\n",
    "    return d\n",
    "    \n",
    "print(len(initialise_game(10)))"
   ]
  },
  {
   "cell_type": "code",
   "execution_count": null,
   "metadata": {},
   "outputs": [],
   "source": [
    "from random import choice, choices\n",
    "\n",
    "def playturn(menace: MENACE, state: str) -> str:\n",
    "    if state not in menace:\n",
    "        raise(ValueError(\"Please check game state is valid\"))\n",
    "    \n",
    "    box = menace[state]\n",
    "    return choices(population = box.moves, weights = box.beads)[0]\n",
    "    \n",
    "    \n",
    "@dataclass\n",
    "class GameResult:\n",
    "    win: bool\n",
    "    states: list[str]\n",
    "\n",
    "def randomturn(s:str) -> str:\n",
    "    return choice([s[:i] + \"X\" + s[i+1:] for i in range(9) if s[i] == \"-\"])\n",
    "    \n",
    "    \n",
    "def randomgame(menace: MENACE) -> GameResult:\n",
    "    state = \"---------\"\n",
    "    states = [state]\n",
    "    while 1:\n",
    "        state = playturn(menace, state)\n",
    "        states.append(state)\n",
    "        if winstate(state, \"O\"): return GameResult(True, states)\n",
    "        state = randomturn(state)\n",
    "        states.append(state)\n",
    "        if winstate(state, \"X\"): return GameResult(False, states)\n",
    "        \n",
    "    raise(Exception(\"This is just to appease Pylance!!!\"))"
   ]
  }
 ],
 "metadata": {
  "kernelspec": {
   "display_name": "Python 3",
   "language": "python",
   "name": "python3"
  },
  "language_info": {
   "codemirror_mode": {
    "name": "ipython",
    "version": 3
   },
   "file_extension": ".py",
   "mimetype": "text/x-python",
   "name": "python",
   "nbconvert_exporter": "python",
   "pygments_lexer": "ipython3",
   "version": "3.11.6"
  }
 },
 "nbformat": 4,
 "nbformat_minor": 2
}
